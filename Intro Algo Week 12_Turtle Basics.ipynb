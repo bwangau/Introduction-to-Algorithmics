{
 "cells": [
  {
   "cell_type": "markdown",
   "metadata": {},
   "source": [
    "#### The Turtle Basics"
   ]
  },
  {
   "cell_type": "code",
   "execution_count": 3,
   "metadata": {
    "scrolled": true
   },
   "outputs": [
    {
     "name": "stdout",
     "output_type": "stream",
     "text": [
      "(100.00,100.00)\n"
     ]
    }
   ],
   "source": [
    "%matplotlib tk\n",
    "###############\n",
    "import turtle\n",
    "###############\n",
    "# Reset the turtle environment\n",
    "turtle.TurtleScreen._RUNNING = True  # Force reset the RUNNING state\n",
    "turtle.Screen()  # Reinitialise the screen\n",
    "###############\n",
    "\n",
    "t = turtle.Turtle()\n",
    "t.shape('turtle')\n",
    "t.color('green')\n",
    "t.turtlesize(2)\n",
    "t.goto(100,100)\n",
    "print(t.pos()) # Current position (x,y)\n",
    "t.circle(60) # Draw a circle\n",
    "t.rt(90) # Turn right 90 degrees\n",
    "t.fd(100) # Move forward 100 units \n",
    "t.lt(90) # Turn left 90 degrees \n",
    "t.bk(100) # Move backward 100 units \n",
    "t.undo() # Undo the last turtle movement\n",
    "t.clear() # Clear everything on the screen \n",
    "t.reset() # Reset the turtle to its default state \n",
    "t.color('pink')\n",
    "\n",
    "# Drawing with loops \n",
    "# Draw a square using a for loop\n",
    "t.penup() # Draw without the trail \n",
    "for i in range(4):\n",
    "    t.fd(100)\n",
    "    t.rt(90)\n",
    "\n",
    "t.clear()\n",
    "t.reset()\n",
    "# Draw four circles with increasing radii using a while loop\n",
    "n = 10\n",
    "while n <= 40:\n",
    "    t.circle(n)\n",
    "    n += 10\n",
    "\n",
    "# Creating timed animation with time.sleep()\n",
    "import time \n",
    "for i in range(4):\n",
    "    t.fd(100)\n",
    "    t.rt(90)\n",
    "    time.sleep(1)\n"
   ]
  },
  {
   "cell_type": "markdown",
   "metadata": {},
   "source": [
    "#### A projectile motion animation "
   ]
  },
  {
   "cell_type": "code",
   "execution_count": 6,
   "metadata": {},
   "outputs": [],
   "source": [
    "%matplotlib tk\n",
    "###############\n",
    "from turtle import *\n",
    "###############\n",
    "# Reset the turtle environment\n",
    "turtle.TurtleScreen._RUNNING = True  # Force reset the RUNNING state\n",
    "turtle.Screen()  # Reinitialise the screen\n",
    "\n",
    "\n",
    "import time\n",
    " \n",
    "startTime = time.time()\n",
    " \n",
    "i = 0\n",
    "def proj(turtle, vh, vv):  # Calculate the position in a projectile motion\n",
    "    global i\n",
    "    timeTaken = time.time() - startTime\n",
    "    title('gravity time: {}'.format(timeTaken, 0))  # Display time on the screen\n",
    " \n",
    "    # Get the current position of the turtle\n",
    "    x0 = turtle.pos()[0]\n",
    "    y0 = turtle.pos()[1]\n",
    "    \n",
    "    # Update the position based on horizontal and vertical velocity\n",
    "    x = x0 + vh\n",
    "    y = y0 + (vv - 9.8 * 0.05 * i)  # Gravity effect included in vertical motion\n",
    "    i += 1\n",
    "    \n",
    "    # Move the turtle to the new position\n",
    "    turtle.goto(x, y)\n",
    "    \n",
    "    # Write the current y-position of the turtle on the screen periodically\n",
    "    if i % 10 == 0:\n",
    "        turtle.write(float('{:.2f}'.format(turtle.pos()[1])))\n",
    " \n",
    "    # Continue the motion if the turtle hasn't hit the ground (y >= 0)\n",
    "    if turtle.pos()[1] >= 0:\n",
    "        ontimer(lambda t=turtle: proj(t, vh, vv), 50)\n",
    " \n",
    "j = 0\n",
    "def freefall(turtle, vv):  # Calculate the position in a free fall motion\n",
    "    global j\n",
    "    x = turtle.pos()[0]\n",
    "    y0 = turtle.pos()[1]\n",
    "    \n",
    "    # Update the vertical position based on vertical velocity and gravity\n",
    "    y = y0 + (vv - 9.8 * 0.05 * j)\n",
    "    j += 1\n",
    "    \n",
    "    # Move the turtle to the new position\n",
    "    turtle.goto(x, y)\n",
    "    \n",
    "    # Write the current y-position of the turtle on the screen periodically\n",
    "    if j % 10 == 0:\n",
    "        turtle.write(float('{:.2f}'.format(turtle.pos()[1])))\n",
    " \n",
    "    # Continue the motion if the turtle hasn't hit the ground (y >= 0)\n",
    "    if turtle.pos()[1] >= 0:\n",
    "        ontimer(lambda t=turtle: freefall(t, vv), 50)\n",
    " \n",
    "def main():\n",
    "    # Create two turtle objects\n",
    "    p1 = Turtle()\n",
    "    p2 = Turtle()\n",
    "    \n",
    "    # Hide the turtles before we start the simulation\n",
    "    p1.hideturtle()\n",
    "    p2.hideturtle()\n",
    "    \n",
    "    # Set up the shape and color of each turtle\n",
    "    p1.shape('circle')\n",
    "    p1.color('blue')\n",
    "    p2.shape('turtle')\n",
    "    p2.color('green')\n",
    "    \n",
    "    # Set the speed of the turtles\n",
    "    p1.speed(10)\n",
    "    p2.speed(10)\n",
    "    \n",
    "    # Adjust the screen size\n",
    "    screensize(750, 750)\n",
    " \n",
    "    # Position the turtles before starting the simulation\n",
    "    p1.penup()\n",
    "    p1.bk(250)  # Move p1 back by 250 units to the left\n",
    "    p1.showturtle()  # Show p1 on the screen\n",
    "    p1.pendown()\n",
    " \n",
    "    p2.penup()\n",
    "    p2.fd(250)  # Move p2 forward by 250 units to the right\n",
    "    p2.lt(90)  # Turn p2 upwards\n",
    "    p2.showturtle()  # Show p2 on the screen\n",
    "    p2.pendown()\n",
    " \n",
    "    # Start the projectile motion for p1 and free fall for p2\n",
    "    proj(p1, 10, 10)  # p1 follows a projectile path with horizontal and vertical velocity\n",
    "    freefall(p2, 10)  # p2 follows a free fall motion\n",
    " \n",
    "if __name__ == '__main__':\n",
    "    main()\n"
   ]
  },
  {
   "cell_type": "markdown",
   "metadata": {},
   "source": [
    "#### Clear and Reset\n",
    "To restart drawing or clean up your turtle window in Jupyter Notebook."
   ]
  },
  {
   "cell_type": "code",
   "execution_count": 4,
   "metadata": {},
   "outputs": [],
   "source": [
    "# To clear the turtle window programmatically (if it's still open):\n",
    "turtle.Screen().bye()"
   ]
  }
 ],
 "metadata": {
  "kernelspec": {
   "display_name": "Python 3",
   "language": "python",
   "name": "python3"
  },
  "language_info": {
   "codemirror_mode": {
    "name": "ipython",
    "version": 3
   },
   "file_extension": ".py",
   "mimetype": "text/x-python",
   "name": "python",
   "nbconvert_exporter": "python",
   "pygments_lexer": "ipython3",
   "version": "3.8.3"
  }
 },
 "nbformat": 4,
 "nbformat_minor": 5
}
