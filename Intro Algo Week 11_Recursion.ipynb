{
 "cells": [
  {
   "cell_type": "markdown",
   "metadata": {},
   "source": [
    "#### Example 1: Counting Down "
   ]
  },
  {
   "cell_type": "code",
   "execution_count": 3,
   "metadata": {},
   "outputs": [],
   "source": [
    "def countDownAndUp(number):\n",
    "    print(number)\n",
    "    if number == 0:\n",
    "        # BASE CASE\n",
    "        print('Reached the base case.')\n",
    "    else:\n",
    "        # RECURSIVE CASE\n",
    "        countDownAndUp(number - 1)\n",
    "        print(number)\n",
    "      \n",
    "#countDownAndUp(5)"
   ]
  },
  {
   "cell_type": "markdown",
   "metadata": {},
   "source": [
    "#### Example 2: The nth term of a sequence "
   ]
  },
  {
   "cell_type": "code",
   "execution_count": 4,
   "metadata": {},
   "outputs": [],
   "source": [
    "def nth_term(n, increment):\n",
    "    if n == 1:\n",
    "        return 1\n",
    "    else:\n",
    "        return increment + nth_term(n-1, increment)\n",
    "\n",
    "#print(nth_term(8, 2))"
   ]
  },
  {
   "cell_type": "markdown",
   "metadata": {},
   "source": [
    "#### Example 3: Factorial "
   ]
  },
  {
   "cell_type": "code",
   "execution_count": 5,
   "metadata": {},
   "outputs": [],
   "source": [
    "def factorial(n):\n",
    "    if n == 1:\n",
    "        return 1\n",
    "    else:\n",
    "        return n * factorial(n-1)\n",
    "\n",
    "#print(factorial(4))"
   ]
  },
  {
   "cell_type": "markdown",
   "metadata": {},
   "source": [
    "#### Example 4: GCD by Euclidean algorithm"
   ]
  },
  {
   "cell_type": "code",
   "execution_count": 6,
   "metadata": {},
   "outputs": [],
   "source": [
    "def gcd(x, y):\n",
    "    if y == 0:\n",
    "        return x\n",
    "    else:\n",
    "        return gcd(y, x % y)\n",
    "\n",
    "#print(gcd(12,18))"
   ]
  },
  {
   "cell_type": "markdown",
   "metadata": {},
   "source": [
    "#### Example 5: Palindromes"
   ]
  },
  {
   "cell_type": "code",
   "execution_count": 7,
   "metadata": {},
   "outputs": [],
   "source": [
    "def palindrome(word):\n",
    "    length = len(word)\n",
    "    if length == 0 or length == 1:\n",
    "        return True\n",
    "    elif word[0] == word[length - 1]:\n",
    "        new_word = word[1 : length - 1]\n",
    "        return palindrome(new_word)\n",
    "    else:\n",
    "        return False\n",
    "    \n",
    "#palindrome('palap')"
   ]
  },
  {
   "cell_type": "markdown",
   "metadata": {},
   "source": [
    "#### Example 6: Print a word in reverse order"
   ]
  },
  {
   "cell_type": "code",
   "execution_count": 8,
   "metadata": {},
   "outputs": [],
   "source": [
    "def print_backwards(phrase):\n",
    "    if len(phrase) == 1:\n",
    "        print(phrase, end = \"\")\n",
    "    else:\n",
    "        new_phrase = phrase[1:]\n",
    "        print_backwards(new_phrase)\n",
    "        print(phrase[0], end = \"\")\n",
    "        \n",
    "#print_backwards('word')"
   ]
  }
 ],
 "metadata": {
  "kernelspec": {
   "display_name": "Python 3",
   "language": "python",
   "name": "python3"
  },
  "language_info": {
   "codemirror_mode": {
    "name": "ipython",
    "version": 3
   },
   "file_extension": ".py",
   "mimetype": "text/x-python",
   "name": "python",
   "nbconvert_exporter": "python",
   "pygments_lexer": "ipython3",
   "version": "3.8.3"
  }
 },
 "nbformat": 4,
 "nbformat_minor": 4
}
